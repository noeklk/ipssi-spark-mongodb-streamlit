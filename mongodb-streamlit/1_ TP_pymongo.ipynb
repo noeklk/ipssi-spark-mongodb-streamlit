{
 "cells": [
  {
   "cell_type": "markdown",
   "metadata": {},
   "source": [
    "# Mongodb"
   ]
  },
  {
   "cell_type": "markdown",
   "metadata": {},
   "source": [
    "Dans ce TP nous allons utiliser la librairie pymongo, pour créer une base de données dans mongodb avec python puis la questionner."
   ]
  },
  {
   "cell_type": "markdown",
   "metadata": {},
   "source": [
    "### Data\n",
    "Voici des données au format csv, elles sont une partie d'un dataset recensant les crimes au Etats-Unis entre 1984 et 2014.\n",
    "\n",
    "https://drive.google.com/file/d/10z7kUXDO4BHffJ6ZfVc42CgIs5558vGd/view?usp=sharing"
   ]
  },
  {
   "cell_type": "markdown",
   "metadata": {},
   "source": [
    "### Création de la BDD"
   ]
  },
  {
   "cell_type": "code",
   "execution_count": 12,
   "metadata": {},
   "outputs": [],
   "source": [
    "import pandas as pd\n",
    "from pymongo import MongoClient\n",
    "import json\n",
    "import streamlit as st"
   ]
  },
  {
   "cell_type": "markdown",
   "metadata": {},
   "source": [
    "Créez une fonction python pour passer ce csv dans une base de données mongo, chaque lignes devra être un document."
   ]
  },
  {
   "cell_type": "markdown",
   "metadata": {},
   "source": [
    "### Requêter la BDD"
   ]
  },
  {
   "cell_type": "markdown",
   "metadata": {},
   "source": [
    "Créez un connecteur pour votre BDD"
   ]
  },
  {
   "cell_type": "code",
   "execution_count": 28,
   "metadata": {},
   "outputs": [],
   "source": [
    "client = MongoClient('localhost',\n",
    "                    port=4344,\n",
    "                    username='root',\n",
    "                    password='root',\n",
    "                    authMechanism='SCRAM-SHA-256')\n",
    "db = client.crimes\n",
    "table = db.documents"
   ]
  },
  {
   "cell_type": "code",
   "execution_count": 20,
   "metadata": {},
   "outputs": [],
   "source": [
    "# Lecture du csv\n",
    "df = pd.read_csv('Crime.csv')"
   ]
  },
  {
   "cell_type": "code",
   "execution_count": 29,
   "metadata": {},
   "outputs": [],
   "source": [
    "# En une seule fois\n",
    "if table.count_documents({}) == 0:    \n",
    "    records = df.to_dict(orient='records')\n",
    "    table.insert_many(records)"
   ]
  },
  {
   "cell_type": "code",
   "execution_count": null,
   "metadata": {},
   "outputs": [],
   "source": [
    "# Ligne par ligne\n",
    "if table.count_documents({}) == 0:\n",
    "    json_docs = df.apply(lambda x: x.to_json(), axis=1)\n",
    "    for document in json_docs:\n",
    "\n",
    "        json_doc = json.loads(document)\n",
    "        table.insert_one(json_doc)"
   ]
  },
  {
   "cell_type": "markdown",
   "metadata": {},
   "source": [
    "##### Quelles sont les armes utilisées par les criminel?\n",
    "Retournez par rapport à tous les documents les valeurs uniques de la clef weapon."
   ]
  },
  {
   "cell_type": "code",
   "execution_count": 32,
   "metadata": {},
   "outputs": [
    {
     "data": {
      "text/plain": [
       "[{'_id': 'Handgun', 'count': 45748},\n",
       " {'_id': 'Knife', 'count': 19586},\n",
       " {'_id': 'Blunt Object', 'count': 11150},\n",
       " {'_id': 'Shotgun', 'count': 7419},\n",
       " {'_id': 'Rifle', 'count': 4968},\n",
       " {'_id': 'Firearm', 'count': 3629},\n",
       " {'_id': 'Unknown', 'count': 3134},\n",
       " {'_id': 'Strangulation', 'count': 1742},\n",
       " {'_id': 'Fire', 'count': 1254},\n",
       " {'_id': 'Suffocation', 'count': 600},\n",
       " {'_id': 'Drowning', 'count': 265},\n",
       " {'_id': 'Gun', 'count': 212},\n",
       " {'_id': 'Drugs', 'count': 101},\n",
       " {'_id': 'Poison', 'count': 80},\n",
       " {'_id': 'Explosives', 'count': 61},\n",
       " {'_id': 'Fall', 'count': 50}]"
      ]
     },
     "execution_count": 32,
     "metadata": {},
     "output_type": "execute_result"
    }
   ],
   "source": [
    "table.distinct(\"Weapon\")\n",
    "\n",
    "list(table.aggregate([\n",
    "    { \"$group\": {\n",
    "        \"_id\": \"$Weapon\", \"count\" : {\"$sum\": 1}\n",
    "    }},\n",
    "    { \"$sort\": {\"count\": -1}}\n",
    "]))"
   ]
  },
  {
   "cell_type": "markdown",
   "metadata": {},
   "source": [
    "##### Combien de crimes ont été commis en 1980?"
   ]
  },
  {
   "cell_type": "code",
   "execution_count": null,
   "metadata": {},
   "outputs": [],
   "source": [
    "table.count_documents({\"Year\":1980})"
   ]
  },
  {
   "cell_type": "markdown",
   "metadata": {},
   "source": [
    "##### Combien de crimes ont été commis par des hommes au Texas?"
   ]
  },
  {
   "cell_type": "code",
   "execution_count": null,
   "metadata": {},
   "outputs": [],
   "source": [
    "table.count_documents({\"Perpetrator Sex\": \"Male\", \"State\": \"Texas\"})"
   ]
  },
  {
   "cell_type": "markdown",
   "metadata": {},
   "source": [
    "##### Combien de crimes ont été commis par chaque sexe en Alaska?"
   ]
  },
  {
   "cell_type": "code",
   "execution_count": null,
   "metadata": {},
   "outputs": [],
   "source": [
    "maleAndFemalePerpetratorsInAlaska = table.aggregate([\n",
    "    { \"$match\": { \"State\": \"Alaska\" }},\n",
    "    { \"$group\": {\"_id\": \"$Perpetrator Sex\", \"crimes commis\": {\"$sum\": 1}}},\n",
    "])\n",
    "\n",
    "list(maleAndFemalePerpetratorsInAlaska)"
   ]
  },
  {
   "cell_type": "markdown",
   "metadata": {},
   "source": [
    "##### Combien y a-t'il eu de victimes dans chaque état?"
   ]
  },
  {
   "cell_type": "code",
   "execution_count": null,
   "metadata": {},
   "outputs": [],
   "source": [
    "victimInEachState = table.aggregate([\n",
    "    { \"$group\" : {\n",
    "        \"_id\": \"$State\", \"victimes\": {\"$sum\": \"$Victim Count\"}\n",
    "    }},\n",
    "    { \"$sort\": { \"victimes\": -1}}\n",
    "])\n",
    "\n",
    "list(victimInEachState)"
   ]
  },
  {
   "cell_type": "markdown",
   "metadata": {},
   "source": [
    "### Bonus"
   ]
  },
  {
   "cell_type": "markdown",
   "metadata": {},
   "source": [
    "Installez la librairie streamlit\n",
    "Créez un dashboard qui donne la posibilité de séléctionner une année pour retourner un barplot du nombre de crime commis avec chaque arme."
   ]
  },
  {
   "cell_type": "code",
   "execution_count": null,
   "metadata": {},
   "outputs": [],
   "source": [
    "victimWithEachWeapon = table.aggregate([\n",
    "    {\"$match\": {\"Year\": 1980}},\n",
    "    { \"$group\" : {\n",
    "        \"_id\": \"$Weapon\", \"victimes\": {\"$sum\": \"$Victim Count\"}\n",
    "    }}\n",
    "])\n",
    "    \n",
    "list(victimWithEachWeapon)"
   ]
  },
  {
   "cell_type": "code",
   "execution_count": null,
   "metadata": {},
   "outputs": [],
   "source": [
    "# QCM 2\n",
    "victimWithEachAge = table.aggregate([\n",
    "    { \"$group\" : {\n",
    "        \"_id\": \"$Victim Age\", \"victimes\": {\"$sum\": 1}\n",
    "    }},\n",
    "    { \"$sort\" : {\n",
    "        \"victimes\": -1\n",
    "    }}\n",
    "])\n",
    "    \n",
    "list(victimWithEachAge)\n",
    "\n"
   ]
  },
  {
   "cell_type": "code",
   "execution_count": null,
   "metadata": {},
   "outputs": [],
   "source": [
    "# QCM 3\n",
    "victimWithEachAgeByVictim = table.aggregate([\n",
    "    {\"$match\": { \"Weapon\": \"Drowning\"}},\n",
    "    { \"$group\" : {\n",
    "        \"_id\": \"$Victim Age\", \"victimes\": {\"$sum\": 1}\n",
    "    }},\n",
    "    { \"$sort\" : {\n",
    "        \"victimes\": -1\n",
    "    }}\n",
    "])\n",
    "    \n",
    "list(victimWithEachAgeByVictim)"
   ]
  },
  {
   "cell_type": "code",
   "execution_count": null,
   "metadata": {
    "scrolled": true
   },
   "outputs": [],
   "source": [
    "# QCM 4\n",
    "victimWithEachAgeByVictim = table.aggregate([\n",
    "    {\"$match\": { \"Weapon\": \"Fall\"}},\n",
    "    { \"$group\" : {\n",
    "        \"_id\": \"$State\", \"victimes\": {\"$sum\": 1}\n",
    "    }},\n",
    "    { \"$sort\" : {\n",
    "        \"victimes\": -1\n",
    "    }}\n",
    "])\n",
    "    \n",
    "list(victimWithEachAgeByVictim)"
   ]
  },
  {
   "cell_type": "code",
   "execution_count": null,
   "metadata": {
    "scrolled": true
   },
   "outputs": [],
   "source": [
    "# QCM 5\n",
    "victimWithEachAgeByVictim = table.aggregate([\n",
    "    { \"$group\" : {\n",
    "        \"_id\": \"$State\", \"Moyenne\": {\"$avg\": \"$Victim Count\"}\n",
    "    }},\n",
    "    { \"$sort\" : {\n",
    "        \"Moyenne\": -1\n",
    "    }}\n",
    "])\n",
    "    \n",
    "list(victimWithEachAgeByVictim)"
   ]
  }
 ],
 "metadata": {
  "kernelspec": {
   "display_name": "Python 3",
   "language": "python",
   "name": "python3"
  },
  "language_info": {
   "codemirror_mode": {
    "name": "ipython",
    "version": 3
   },
   "file_extension": ".py",
   "mimetype": "text/x-python",
   "name": "python",
   "nbconvert_exporter": "python",
   "pygments_lexer": "ipython3",
   "version": "3.8.6"
  },
  "varInspector": {
   "cols": {
    "lenName": 16,
    "lenType": 16,
    "lenVar": 40
   },
   "kernels_config": {
    "python": {
     "delete_cmd_postfix": "",
     "delete_cmd_prefix": "del ",
     "library": "var_list.py",
     "varRefreshCmd": "print(var_dic_list())"
    },
    "r": {
     "delete_cmd_postfix": ") ",
     "delete_cmd_prefix": "rm(",
     "library": "var_list.r",
     "varRefreshCmd": "cat(var_dic_list()) "
    }
   },
   "types_to_exclude": [
    "module",
    "function",
    "builtin_function_or_method",
    "instance",
    "_Feature"
   ],
   "window_display": false
  }
 },
 "nbformat": 4,
 "nbformat_minor": 2
}
