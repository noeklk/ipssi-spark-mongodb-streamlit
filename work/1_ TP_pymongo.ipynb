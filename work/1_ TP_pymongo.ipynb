{
 "cells": [
  {
   "cell_type": "markdown",
   "metadata": {},
   "source": [
    "# Mongodb"
   ]
  },
  {
   "cell_type": "markdown",
   "metadata": {},
   "source": [
    "Dans ce TP nous allons utiliser la librairie pymongo, pour créer une base de données dans mongodb avec python puis la questionner."
   ]
  },
  {
   "cell_type": "markdown",
   "metadata": {},
   "source": [
    "### Data\n",
    "Voici des données au format csv, elles sont une partie d'un dataset recensant les crimes au Etats-Unis entre 1984 et 2014.\n",
    "\n",
    "https://drive.google.com/file/d/10z7kUXDO4BHffJ6ZfVc42CgIs5558vGd/view?usp=sharing"
   ]
  },
  {
   "cell_type": "markdown",
   "metadata": {},
   "source": [
    "### Création de la BDD"
   ]
  },
  {
   "cell_type": "code",
   "execution_count": 1,
   "metadata": {},
   "outputs": [],
   "source": [
    "from pymongo import MongoClient\n",
    "import json\n",
    "import streamlit as st\n",
    "from pyspark.sql import SparkSession\n",
    "spark = SparkSession.builder.getOrCreate()"
   ]
  },
  {
   "cell_type": "markdown",
   "metadata": {},
   "source": [
    "Créez une fonction python pour passer ce csv dans une base de données mongo, chaque lignes devra être un document."
   ]
  },
  {
   "cell_type": "markdown",
   "metadata": {},
   "source": [
    "### Requêter la BDD"
   ]
  },
  {
   "cell_type": "markdown",
   "metadata": {},
   "source": [
    "Créez un connecteur pour votre BDD"
   ]
  },
  {
   "cell_type": "code",
   "execution_count": 2,
   "metadata": {},
   "outputs": [],
   "source": [
    "client = MongoClient(\n",
    "    'mongo',\n",
    "    port=27017,\n",
    "    username='root',\n",
    "    password='root',\n",
    "    authMechanism='SCRAM-SHA-256'\n",
    ")\n",
    "db = client.spotify"
   ]
  },
  {
   "cell_type": "code",
   "execution_count": 3,
   "metadata": {},
   "outputs": [
    {
     "data": {
      "text/plain": [
       "[('danceability', 'double'),\n",
       " ('energy', 'double'),\n",
       " ('key', 'int'),\n",
       " ('loudness', 'double'),\n",
       " ('mode', 'int'),\n",
       " ('speechiness', 'double'),\n",
       " ('acousticness', 'double'),\n",
       " ('instrumentalness', 'double'),\n",
       " ('liveness', 'double'),\n",
       " ('valence', 'double'),\n",
       " ('tempo', 'double'),\n",
       " ('type', 'string'),\n",
       " ('id', 'string'),\n",
       " ('uri', 'string'),\n",
       " ('track_href', 'string'),\n",
       " ('analysis_url', 'string'),\n",
       " ('duration_ms', 'int'),\n",
       " ('time_signature', 'int'),\n",
       " ('genre', 'string'),\n",
       " ('song_name', 'string'),\n",
       " ('Unnamed: 0', 'string'),\n",
       " ('title', 'string')]"
      ]
     },
     "execution_count": 3,
     "metadata": {},
     "output_type": "execute_result"
    }
   ],
   "source": [
    "# Lecture du csv\n",
    "df = spark.read.format('csv').options(header=True, inferSchema=True).load('data/Spotify/genres_v2.csv')\n",
    "df.dtypes\n",
    "# df.write.csv(\"hdfs://spark-master:7077/spotify.csv\")"
   ]
  },
  {
   "cell_type": "markdown",
   "metadata": {},
   "source": [
    "##### remove useless cols"
   ]
  },
  {
   "cell_type": "code",
   "execution_count": 39,
   "metadata": {},
   "outputs": [
    {
     "data": {
      "text/plain": [
       "[('danceability', 'double'),\n",
       " ('energy', 'double'),\n",
       " ('loudness', 'double'),\n",
       " ('speechiness', 'double'),\n",
       " ('acousticness', 'double'),\n",
       " ('instrumentalness', 'double'),\n",
       " ('liveness', 'double'),\n",
       " ('valence', 'double'),\n",
       " ('tempo', 'double'),\n",
       " ('type', 'string'),\n",
       " ('id', 'string'),\n",
       " ('track_href', 'string'),\n",
       " ('duration_ms', 'int'),\n",
       " ('time_signature', 'int'),\n",
       " ('genre', 'string'),\n",
       " ('song_name', 'string'),\n",
       " ('date_display', 'string')]"
      ]
     },
     "execution_count": 39,
     "metadata": {},
     "output_type": "execute_result"
    }
   ],
   "source": [
    "df = df.drop('mode').drop('key').drop('analysis_url').drop('Unnamed: 0').drop('title').drop('uri')\n",
    "df.dtypes"
   ]
  },
  {
   "cell_type": "markdown",
   "metadata": {},
   "source": [
    "###### add duration display"
   ]
  },
  {
   "cell_type": "code",
   "execution_count": 29,
   "metadata": {},
   "outputs": [],
   "source": [
    "from pyspark.sql.types import *\n",
    "from pyspark.sql.functions import udf\n",
    "\n",
    ".drop('key')@udf(returnType = StringType())\n",
    "def ms_to_display_string(ms):\n",
    "    s = ms / 1000\n",
    "    m, s_left = divmod(s, 60)\n",
    "    return f\"{int(m)}min{int(s_left):0>2d}\"\n",
    "\n",
    "# print(ms_to_display_string(138539), ms_to_display_string(124539))"
   ]
  },
  {
   "cell_type": "code",
   "execution_count": 40,
   "metadata": {},
   "outputs": [
    {
     "data": {
      "text/plain": [
       "[Row(danceability=0.831, energy=0.8140000000000001, loudness=-7.364, speechiness=0.42, acousticness=0.0598, instrumentalness=0.0134, liveness=0.0556, valence=0.389, tempo=156.985, type='audio_features', id='2Vc6NJ9PW9gD9q343XFRKx', track_href='https://api.spotify.com/v1/tracks/2Vc6NJ9PW9gD9q343XFRKx', duration_ms=124539, time_signature=4, genre='Dark Trap', song_name='Mercury: Retrograde', date_display='2min04'),\n",
       " Row(danceability=0.7190000000000001, energy=0.493, loudness=-7.23, speechiness=0.0794, acousticness=0.401, instrumentalness=0.0, liveness=0.11800000000000001, valence=0.124, tempo=115.08, type='audio_features', id='7pgJBLVz5VmnL7uGHmRj6p', track_href='https://api.spotify.com/v1/tracks/7pgJBLVz5VmnL7uGHmRj6p', duration_ms=224427, time_signature=4, genre='Dark Trap', song_name='Pathology', date_display='3min44'),\n",
       " Row(danceability=0.85, energy=0.893, loudness=-4.783, speechiness=0.0623, acousticness=0.0138, instrumentalness=4.14e-06, liveness=0.37200000000000005, valence=0.0391, tempo=218.05, type='audio_features', id='0vSWgAlfpye0WCGeNmuNhy', track_href='https://api.spotify.com/v1/tracks/0vSWgAlfpye0WCGeNmuNhy', duration_ms=98821, time_signature=4, genre='Dark Trap', song_name='Symbiote', date_display='1min38'),\n",
       " Row(danceability=0.47600000000000003, energy=0.7809999999999999, loudness=-4.71, speechiness=0.10300000000000001, acousticness=0.0237, instrumentalness=0.0, liveness=0.114, valence=0.175, tempo=186.94799999999998, type='audio_features', id='0VSXnJqQkwuH2ei1nOQ1nu', track_href='https://api.spotify.com/v1/tracks/0VSXnJqQkwuH2ei1nOQ1nu', duration_ms=123661, time_signature=3, genre='Dark Trap', song_name='ProductOfDrugs (Prod. The Virus and Antidote)', date_display='2min03'),\n",
       " Row(danceability=0.7979999999999999, energy=0.624, loudness=-7.667999999999999, speechiness=0.293, acousticness=0.217, instrumentalness=0.0, liveness=0.166, valence=0.591, tempo=147.988, type='audio_features', id='4jCeguq9rMTlbMmPHuO7S3', track_href='https://api.spotify.com/v1/tracks/4jCeguq9rMTlbMmPHuO7S3', duration_ms=123298, time_signature=4, genre='Dark Trap', song_name='Venom', date_display='2min03')]"
      ]
     },
     "execution_count": 40,
     "metadata": {},
     "output_type": "execute_result"
    }
   ],
   "source": [
    "df = df.withColumn('date_display', ms_to_display_string(df.duration_ms))\n",
    "df.take(5)"
   ]
  },
  {
   "cell_type": "markdown",
   "metadata": {},
   "source": [
    "##### create table functions"
   ]
  },
  {
   "cell_type": "code",
   "execution_count": 35,
   "metadata": {},
   "outputs": [],
   "source": [
    "def import_json(json, table_name):\n",
    "    table = db[table_name]\n",
    "    table.delete_many({})\n",
    "    table.insert_many(json) \n",
    "    \n",
    "def import_pandas_df(df, table_name): \n",
    "    import_json(df.to_dict(orient='records'), table_name)\n",
    "        \n",
    "def import_spark_df(df, table_name):\n",
    "    import_pandas_df(df.toPandas(), table_name)"
   ]
  },
  {
   "cell_type": "code",
   "execution_count": 41,
   "metadata": {},
   "outputs": [
    {
     "data": {
      "text/html": [
       "<div>\n",
       "<style scoped>\n",
       "    .dataframe tbody tr th:only-of-type {\n",
       "        vertical-align: middle;\n",
       "    }\n",
       "\n",
       "    .dataframe tbody tr th {\n",
       "        vertical-align: top;\n",
       "    }\n",
       "\n",
       "    .dataframe thead th {\n",
       "        text-align: right;\n",
       "    }\n",
       "</style>\n",
       "<table border=\"1\" class=\"dataframe\">\n",
       "  <thead>\n",
       "    <tr style=\"text-align: right;\">\n",
       "      <th></th>\n",
       "      <th>danceability</th>\n",
       "      <th>energy</th>\n",
       "      <th>loudness</th>\n",
       "      <th>speechiness</th>\n",
       "      <th>acousticness</th>\n",
       "      <th>instrumentalness</th>\n",
       "      <th>liveness</th>\n",
       "      <th>valence</th>\n",
       "      <th>tempo</th>\n",
       "      <th>type</th>\n",
       "      <th>id</th>\n",
       "      <th>track_href</th>\n",
       "      <th>duration_ms</th>\n",
       "      <th>time_signature</th>\n",
       "      <th>genre</th>\n",
       "      <th>song_name</th>\n",
       "      <th>date_display</th>\n",
       "    </tr>\n",
       "  </thead>\n",
       "  <tbody>\n",
       "    <tr>\n",
       "      <th>0</th>\n",
       "      <td>0.831</td>\n",
       "      <td>0.814</td>\n",
       "      <td>-7.364</td>\n",
       "      <td>0.4200</td>\n",
       "      <td>0.059800</td>\n",
       "      <td>0.013400</td>\n",
       "      <td>0.0556</td>\n",
       "      <td>0.3890</td>\n",
       "      <td>156.985</td>\n",
       "      <td>audio_features</td>\n",
       "      <td>2Vc6NJ9PW9gD9q343XFRKx</td>\n",
       "      <td>https://api.spotify.com/v1/tracks/2Vc6NJ9PW9gD...</td>\n",
       "      <td>124539</td>\n",
       "      <td>4</td>\n",
       "      <td>Dark Trap</td>\n",
       "      <td>Mercury: Retrograde</td>\n",
       "      <td>2min04</td>\n",
       "    </tr>\n",
       "    <tr>\n",
       "      <th>1</th>\n",
       "      <td>0.719</td>\n",
       "      <td>0.493</td>\n",
       "      <td>-7.230</td>\n",
       "      <td>0.0794</td>\n",
       "      <td>0.401000</td>\n",
       "      <td>0.000000</td>\n",
       "      <td>0.1180</td>\n",
       "      <td>0.1240</td>\n",
       "      <td>115.080</td>\n",
       "      <td>audio_features</td>\n",
       "      <td>7pgJBLVz5VmnL7uGHmRj6p</td>\n",
       "      <td>https://api.spotify.com/v1/tracks/7pgJBLVz5Vmn...</td>\n",
       "      <td>224427</td>\n",
       "      <td>4</td>\n",
       "      <td>Dark Trap</td>\n",
       "      <td>Pathology</td>\n",
       "      <td>3min44</td>\n",
       "    </tr>\n",
       "    <tr>\n",
       "      <th>2</th>\n",
       "      <td>0.850</td>\n",
       "      <td>0.893</td>\n",
       "      <td>-4.783</td>\n",
       "      <td>0.0623</td>\n",
       "      <td>0.013800</td>\n",
       "      <td>0.000004</td>\n",
       "      <td>0.3720</td>\n",
       "      <td>0.0391</td>\n",
       "      <td>218.050</td>\n",
       "      <td>audio_features</td>\n",
       "      <td>0vSWgAlfpye0WCGeNmuNhy</td>\n",
       "      <td>https://api.spotify.com/v1/tracks/0vSWgAlfpye0...</td>\n",
       "      <td>98821</td>\n",
       "      <td>4</td>\n",
       "      <td>Dark Trap</td>\n",
       "      <td>Symbiote</td>\n",
       "      <td>1min38</td>\n",
       "    </tr>\n",
       "    <tr>\n",
       "      <th>3</th>\n",
       "      <td>0.476</td>\n",
       "      <td>0.781</td>\n",
       "      <td>-4.710</td>\n",
       "      <td>0.1030</td>\n",
       "      <td>0.023700</td>\n",
       "      <td>0.000000</td>\n",
       "      <td>0.1140</td>\n",
       "      <td>0.1750</td>\n",
       "      <td>186.948</td>\n",
       "      <td>audio_features</td>\n",
       "      <td>0VSXnJqQkwuH2ei1nOQ1nu</td>\n",
       "      <td>https://api.spotify.com/v1/tracks/0VSXnJqQkwuH...</td>\n",
       "      <td>123661</td>\n",
       "      <td>3</td>\n",
       "      <td>Dark Trap</td>\n",
       "      <td>ProductOfDrugs (Prod. The Virus and Antidote)</td>\n",
       "      <td>2min03</td>\n",
       "    </tr>\n",
       "    <tr>\n",
       "      <th>4</th>\n",
       "      <td>0.798</td>\n",
       "      <td>0.624</td>\n",
       "      <td>-7.668</td>\n",
       "      <td>0.2930</td>\n",
       "      <td>0.217000</td>\n",
       "      <td>0.000000</td>\n",
       "      <td>0.1660</td>\n",
       "      <td>0.5910</td>\n",
       "      <td>147.988</td>\n",
       "      <td>audio_features</td>\n",
       "      <td>4jCeguq9rMTlbMmPHuO7S3</td>\n",
       "      <td>https://api.spotify.com/v1/tracks/4jCeguq9rMTl...</td>\n",
       "      <td>123298</td>\n",
       "      <td>4</td>\n",
       "      <td>Dark Trap</td>\n",
       "      <td>Venom</td>\n",
       "      <td>2min03</td>\n",
       "    </tr>\n",
       "    <tr>\n",
       "      <th>...</th>\n",
       "      <td>...</td>\n",
       "      <td>...</td>\n",
       "      <td>...</td>\n",
       "      <td>...</td>\n",
       "      <td>...</td>\n",
       "      <td>...</td>\n",
       "      <td>...</td>\n",
       "      <td>...</td>\n",
       "      <td>...</td>\n",
       "      <td>...</td>\n",
       "      <td>...</td>\n",
       "      <td>...</td>\n",
       "      <td>...</td>\n",
       "      <td>...</td>\n",
       "      <td>...</td>\n",
       "      <td>...</td>\n",
       "      <td>...</td>\n",
       "    </tr>\n",
       "    <tr>\n",
       "      <th>42300</th>\n",
       "      <td>0.528</td>\n",
       "      <td>0.693</td>\n",
       "      <td>-5.148</td>\n",
       "      <td>0.0304</td>\n",
       "      <td>0.031500</td>\n",
       "      <td>0.000345</td>\n",
       "      <td>0.1210</td>\n",
       "      <td>0.3940</td>\n",
       "      <td>150.013</td>\n",
       "      <td>audio_features</td>\n",
       "      <td>46bXU7Sgj7104ZoXxzz9tM</td>\n",
       "      <td>https://api.spotify.com/v1/tracks/46bXU7Sgj710...</td>\n",
       "      <td>269208</td>\n",
       "      <td>4</td>\n",
       "      <td>hardstyle</td>\n",
       "      <td>None</td>\n",
       "      <td>4min29</td>\n",
       "    </tr>\n",
       "    <tr>\n",
       "      <th>42301</th>\n",
       "      <td>0.517</td>\n",
       "      <td>0.768</td>\n",
       "      <td>-7.922</td>\n",
       "      <td>0.0479</td>\n",
       "      <td>0.022500</td>\n",
       "      <td>0.000018</td>\n",
       "      <td>0.2050</td>\n",
       "      <td>0.3830</td>\n",
       "      <td>149.928</td>\n",
       "      <td>audio_features</td>\n",
       "      <td>0he2ViGMUO3ajKTxLOfWVT</td>\n",
       "      <td>https://api.spotify.com/v1/tracks/0he2ViGMUO3a...</td>\n",
       "      <td>210112</td>\n",
       "      <td>4</td>\n",
       "      <td>hardstyle</td>\n",
       "      <td>None</td>\n",
       "      <td>3min30</td>\n",
       "    </tr>\n",
       "    <tr>\n",
       "      <th>42302</th>\n",
       "      <td>0.361</td>\n",
       "      <td>0.821</td>\n",
       "      <td>-3.102</td>\n",
       "      <td>0.0505</td>\n",
       "      <td>0.026000</td>\n",
       "      <td>0.000242</td>\n",
       "      <td>0.3850</td>\n",
       "      <td>0.1240</td>\n",
       "      <td>154.935</td>\n",
       "      <td>audio_features</td>\n",
       "      <td>72DAt9Lbpy9EUS29OzQLob</td>\n",
       "      <td>https://api.spotify.com/v1/tracks/72DAt9Lbpy9E...</td>\n",
       "      <td>234823</td>\n",
       "      <td>4</td>\n",
       "      <td>hardstyle</td>\n",
       "      <td>None</td>\n",
       "      <td>3min54</td>\n",
       "    </tr>\n",
       "    <tr>\n",
       "      <th>42303</th>\n",
       "      <td>0.477</td>\n",
       "      <td>0.921</td>\n",
       "      <td>-4.777</td>\n",
       "      <td>0.0392</td>\n",
       "      <td>0.000551</td>\n",
       "      <td>0.029600</td>\n",
       "      <td>0.0575</td>\n",
       "      <td>0.4880</td>\n",
       "      <td>150.042</td>\n",
       "      <td>audio_features</td>\n",
       "      <td>6HXgExFVuE1c3cq9QjFCcU</td>\n",
       "      <td>https://api.spotify.com/v1/tracks/6HXgExFVuE1c...</td>\n",
       "      <td>323200</td>\n",
       "      <td>4</td>\n",
       "      <td>hardstyle</td>\n",
       "      <td>None</td>\n",
       "      <td>5min23</td>\n",
       "    </tr>\n",
       "    <tr>\n",
       "      <th>42304</th>\n",
       "      <td>0.529</td>\n",
       "      <td>0.945</td>\n",
       "      <td>-5.862</td>\n",
       "      <td>0.0615</td>\n",
       "      <td>0.001890</td>\n",
       "      <td>0.000055</td>\n",
       "      <td>0.4140</td>\n",
       "      <td>0.1340</td>\n",
       "      <td>155.047</td>\n",
       "      <td>audio_features</td>\n",
       "      <td>6MAAMZImxcvYhRnxDLTufD</td>\n",
       "      <td>https://api.spotify.com/v1/tracks/6MAAMZImxcvY...</td>\n",
       "      <td>162161</td>\n",
       "      <td>4</td>\n",
       "      <td>hardstyle</td>\n",
       "      <td>None</td>\n",
       "      <td>2min42</td>\n",
       "    </tr>\n",
       "  </tbody>\n",
       "</table>\n",
       "<p>42305 rows × 17 columns</p>\n",
       "</div>"
      ],
      "text/plain": [
       "       danceability  energy  loudness  speechiness  acousticness  \\\n",
       "0             0.831   0.814    -7.364       0.4200      0.059800   \n",
       "1             0.719   0.493    -7.230       0.0794      0.401000   \n",
       "2             0.850   0.893    -4.783       0.0623      0.013800   \n",
       "3             0.476   0.781    -4.710       0.1030      0.023700   \n",
       "4             0.798   0.624    -7.668       0.2930      0.217000   \n",
       "...             ...     ...       ...          ...           ...   \n",
       "42300         0.528   0.693    -5.148       0.0304      0.031500   \n",
       "42301         0.517   0.768    -7.922       0.0479      0.022500   \n",
       "42302         0.361   0.821    -3.102       0.0505      0.026000   \n",
       "42303         0.477   0.921    -4.777       0.0392      0.000551   \n",
       "42304         0.529   0.945    -5.862       0.0615      0.001890   \n",
       "\n",
       "       instrumentalness  liveness  valence    tempo            type  \\\n",
       "0              0.013400    0.0556   0.3890  156.985  audio_features   \n",
       "1              0.000000    0.1180   0.1240  115.080  audio_features   \n",
       "2              0.000004    0.3720   0.0391  218.050  audio_features   \n",
       "3              0.000000    0.1140   0.1750  186.948  audio_features   \n",
       "4              0.000000    0.1660   0.5910  147.988  audio_features   \n",
       "...                 ...       ...      ...      ...             ...   \n",
       "42300          0.000345    0.1210   0.3940  150.013  audio_features   \n",
       "42301          0.000018    0.2050   0.3830  149.928  audio_features   \n",
       "42302          0.000242    0.3850   0.1240  154.935  audio_features   \n",
       "42303          0.029600    0.0575   0.4880  150.042  audio_features   \n",
       "42304          0.000055    0.4140   0.1340  155.047  audio_features   \n",
       "\n",
       "                           id  \\\n",
       "0      2Vc6NJ9PW9gD9q343XFRKx   \n",
       "1      7pgJBLVz5VmnL7uGHmRj6p   \n",
       "2      0vSWgAlfpye0WCGeNmuNhy   \n",
       "3      0VSXnJqQkwuH2ei1nOQ1nu   \n",
       "4      4jCeguq9rMTlbMmPHuO7S3   \n",
       "...                       ...   \n",
       "42300  46bXU7Sgj7104ZoXxzz9tM   \n",
       "42301  0he2ViGMUO3ajKTxLOfWVT   \n",
       "42302  72DAt9Lbpy9EUS29OzQLob   \n",
       "42303  6HXgExFVuE1c3cq9QjFCcU   \n",
       "42304  6MAAMZImxcvYhRnxDLTufD   \n",
       "\n",
       "                                              track_href  duration_ms  \\\n",
       "0      https://api.spotify.com/v1/tracks/2Vc6NJ9PW9gD...       124539   \n",
       "1      https://api.spotify.com/v1/tracks/7pgJBLVz5Vmn...       224427   \n",
       "2      https://api.spotify.com/v1/tracks/0vSWgAlfpye0...        98821   \n",
       "3      https://api.spotify.com/v1/tracks/0VSXnJqQkwuH...       123661   \n",
       "4      https://api.spotify.com/v1/tracks/4jCeguq9rMTl...       123298   \n",
       "...                                                  ...          ...   \n",
       "42300  https://api.spotify.com/v1/tracks/46bXU7Sgj710...       269208   \n",
       "42301  https://api.spotify.com/v1/tracks/0he2ViGMUO3a...       210112   \n",
       "42302  https://api.spotify.com/v1/tracks/72DAt9Lbpy9E...       234823   \n",
       "42303  https://api.spotify.com/v1/tracks/6HXgExFVuE1c...       323200   \n",
       "42304  https://api.spotify.com/v1/tracks/6MAAMZImxcvY...       162161   \n",
       "\n",
       "       time_signature      genre  \\\n",
       "0                   4  Dark Trap   \n",
       "1                   4  Dark Trap   \n",
       "2                   4  Dark Trap   \n",
       "3                   3  Dark Trap   \n",
       "4                   4  Dark Trap   \n",
       "...               ...        ...   \n",
       "42300               4  hardstyle   \n",
       "42301               4  hardstyle   \n",
       "42302               4  hardstyle   \n",
       "42303               4  hardstyle   \n",
       "42304               4  hardstyle   \n",
       "\n",
       "                                           song_name date_display  \n",
       "0                                Mercury: Retrograde       2min04  \n",
       "1                                          Pathology       3min44  \n",
       "2                                           Symbiote       1min38  \n",
       "3      ProductOfDrugs (Prod. The Virus and Antidote)       2min03  \n",
       "4                                              Venom       2min03  \n",
       "...                                              ...          ...  \n",
       "42300                                           None       4min29  \n",
       "42301                                           None       3min30  \n",
       "42302                                           None       3min54  \n",
       "42303                                           None       5min23  \n",
       "42304                                           None       2min42  \n",
       "\n",
       "[42305 rows x 17 columns]"
      ]
     },
     "execution_count": 41,
     "metadata": {},
     "output_type": "execute_result"
    }
   ],
   "source": [
    "import_spark_df(df, 'songs')\n",
    "df.toPandas()"
   ]
  },
  {
   "cell_type": "markdown",
   "metadata": {},
   "source": [
    "###### Creation des tables de corrélations"
   ]
  },
  {
   "cell_type": "code",
   "execution_count": 6,
   "metadata": {},
   "outputs": [
    {
     "data": {
      "text/plain": [
       "[{'base_col': 'danceability',\n",
       "  'compared_col': 'energy',\n",
       "  'value': -0.32324758938982895},\n",
       " {'base_col': 'danceability',\n",
       "  'compared_col': 'loudness',\n",
       "  'value': -0.21677558073253783},\n",
       " {'base_col': 'danceability',\n",
       "  'compared_col': 'valence',\n",
       "  'value': 0.369844698240632},\n",
       " {'base_col': 'danceability',\n",
       "  'compared_col': 'tempo',\n",
       "  'value': -0.16592868259426302},\n",
       " {'base_col': 'danceability',\n",
       "  'compared_col': 'liveness',\n",
       "  'value': -0.19670227857840306},\n",
       " {'base_col': 'danceability',\n",
       "  'compared_col': 'instrumentalness',\n",
       "  'value': -0.06711359015412233},\n",
       " {'base_col': 'danceability',\n",
       "  'compared_col': 'speechiness',\n",
       "  'value': 0.18217692430188007},\n",
       " {'base_col': 'danceability',\n",
       "  'compared_col': 'acousticness',\n",
       "  'value': 0.06990976582404694},\n",
       " {'base_col': 'valence',\n",
       "  'compared_col': 'energy',\n",
       "  'value': -0.013519692624507218},\n",
       " {'base_col': 'valence',\n",
       "  'compared_col': 'loudness',\n",
       "  'value': 0.08091618276919108},\n",
       " {'base_col': 'valence',\n",
       "  'compared_col': 'tempo',\n",
       "  'value': 0.058374147254623414},\n",
       " {'base_col': 'valence',\n",
       "  'compared_col': 'liveness',\n",
       "  'value': -0.025155613532274863},\n",
       " {'base_col': 'valence',\n",
       "  'compared_col': 'instrumentalness',\n",
       "  'value': -0.2570680360340621},\n",
       " {'base_col': 'valence',\n",
       "  'compared_col': 'speechiness',\n",
       "  'value': 0.21882903805612033},\n",
       " {'base_col': 'valence',\n",
       "  'compared_col': 'acousticness',\n",
       "  'value': 0.09932768476440476}]"
      ]
     },
     "execution_count": 6,
     "metadata": {},
     "output_type": "execute_result"
    }
   ],
   "source": [
    "from functools import reduce\n",
    "\n",
    "correlations = {\n",
    "    'danceability': [\n",
    "        'energy',\n",
    "        'loudness',\n",
    "        'valence',\n",
    "        'tempo',\n",
    "        'liveness',\n",
    "        'instrumentalness',\n",
    "        'speechiness',\n",
    "        'acousticness'\n",
    "    ], \n",
    "    'valence': [\n",
    "        'energy',\n",
    "        'loudness',\n",
    "        'tempo',\n",
    "        'liveness',\n",
    "        'instrumentalness',\n",
    "        'speechiness',\n",
    "        'acousticness',\n",
    "    ]\n",
    "}\n",
    "\n",
    "\n",
    "def calc_cols_corr(corr_table, items):\n",
    "    base_col, cols = items\n",
    "    return corr_table + [\n",
    "        { \n",
    "            'base_col': base_col,\n",
    "            'compared_col': col, \n",
    "            'value': df.corr(base_col, col)\n",
    "        } for col in cols\n",
    "    ]\n",
    "\n",
    "\n",
    "corr_table = reduce(\n",
    "    calc_cols_corr, \n",
    "    list(correlations.items()),\n",
    "    []\n",
    ")\n",
    "\n",
    "import_json(corr_table, 'correlations')\n",
    "corr_table"
   ]
  },
  {
   "cell_type": "markdown",
   "metadata": {},
   "source": [
    "###### Test de correlation de la valence"
   ]
  },
  {
   "cell_type": "code",
   "execution_count": 23,
   "metadata": {},
   "outputs": [
    {
     "data": {
      "text/plain": [
       "{'energy': -0.013519692624507104,\n",
       " 'loudness': 0.08091618276919113,\n",
       " 'tempo': 0.05837414725462354,\n",
       " 'liveness': -0.025155613532274863,\n",
       " 'instrumentalness': -0.2570680360340621,\n",
       " 'speechiness': 0.21882903805612033,\n",
       " 'acousticness': 0.0993276847644048}"
      ]
     },
     "execution_count": 23,
     "metadata": {},
     "output_type": "execute_result"
    }
   ],
   "source": [
    "{\n",
    "    'energy': df.corr('valence','energy'),\n",
    "    'loudness': df.corr('valence','loudness'),\n",
    "    'tempo': df.corr('valence','tempo'),\n",
    "    'liveness': df.corr('valence','liveness'),\n",
    "    'instrumentalness': df.corr('valence','instrumentalness'),\n",
    "    'speechiness': df.corr('valence','speechiness'),\n",
    "    'acousticness': df.corr('valence','acousticness'),\n",
    "}"
   ]
  },
  {
   "cell_type": "markdown",
   "metadata": {},
   "source": [
    "##### Quelles sont les armes utilisées par les criminel?\n",
    "Retournez par rapport à tous les documents les valeurs uniques de la clef weapon."
   ]
  },
  {
   "cell_type": "code",
   "execution_count": 16,
   "metadata": {},
   "outputs": [
    {
     "data": {
      "text/plain": [
       "[{'_id': 'Handgun', 'count': 45748},\n",
       " {'_id': 'Knife', 'count': 19586},\n",
       " {'_id': 'Blunt Object', 'count': 11150},\n",
       " {'_id': 'Shotgun', 'count': 7419},\n",
       " {'_id': 'Rifle', 'count': 4968},\n",
       " {'_id': 'Firearm', 'count': 3629},\n",
       " {'_id': 'Unknown', 'count': 3134},\n",
       " {'_id': 'Strangulation', 'count': 1742},\n",
       " {'_id': 'Fire', 'count': 1254},\n",
       " {'_id': 'Suffocation', 'count': 600},\n",
       " {'_id': 'Drowning', 'count': 265},\n",
       " {'_id': 'Gun', 'count': 212},\n",
       " {'_id': 'Drugs', 'count': 101},\n",
       " {'_id': 'Poison', 'count': 80},\n",
       " {'_id': 'Explosives', 'count': 61},\n",
       " {'_id': 'Fall', 'count': 50}]"
      ]
     },
     "execution_count": 16,
     "metadata": {},
     "output_type": "execute_result"
    }
   ],
   "source": [
    "table.distinct(\"Weapon\")\n",
    "\n",
    "list(table.aggregate([\n",
    "    { \"$group\": {\n",
    "        \"_id\": \"$Weapon\", \"count\" : {\"$sum\": 1}\n",
    "    }},\n",
    "    { \"$sort\": {\"count\": -1}}\n",
    "]))"
   ]
  },
  {
   "cell_type": "markdown",
   "metadata": {},
   "source": [
    "##### Combien de crimes ont été commis en 1980?"
   ]
  },
  {
   "cell_type": "code",
   "execution_count": null,
   "metadata": {},
   "outputs": [],
   "source": [
    "table.count_documents({\"Year\":1980})"
   ]
  },
  {
   "cell_type": "markdown",
   "metadata": {},
   "source": [
    "##### Combien de crimes ont été commis par des hommes au Texas?"
   ]
  },
  {
   "cell_type": "code",
   "execution_count": null,
   "metadata": {},
   "outputs": [],
   "source": [
    "table.count_documents({\"Perpetrator Sex\": \"Male\", \"State\": \"Texas\"})"
   ]
  },
  {
   "cell_type": "markdown",
   "metadata": {},
   "source": [
    "##### Combien de crimes ont été commis par chaque sexe en Alaska?"
   ]
  },
  {
   "cell_type": "code",
   "execution_count": null,
   "metadata": {},
   "outputs": [],
   "source": [
    "maleAndFemalePerpetratorsInAlaska = table.aggregate([\n",
    "    { \"$match\": { \"State\": \"Alaska\" }},\n",
    "    { \"$group\": {\"_id\": \"$Perpetrator Sex\", \"crimes commis\": {\"$sum\": 1}}},\n",
    "])\n",
    "\n",
    "list(maleAndFemalePerpetratorsInAlaska)"
   ]
  },
  {
   "cell_type": "markdown",
   "metadata": {},
   "source": [
    "##### Combien y a-t'il eu de victimes dans chaque état?"
   ]
  },
  {
   "cell_type": "code",
   "execution_count": null,
   "metadata": {},
   "outputs": [],
   "source": [
    "victimInEachState = table.aggregate([\n",
    "    { \"$group\" : {\n",
    "        \"_id\": \"$State\", \"victimes\": {\"$sum\": \"$Victim Count\"}\n",
    "    }},\n",
    "    { \"$sort\": { \"victimes\": -1}}\n",
    "])\n",
    "\n",
    "list(victimInEachState)"
   ]
  },
  {
   "cell_type": "markdown",
   "metadata": {},
   "source": [
    "### Bonus"
   ]
  },
  {
   "cell_type": "markdown",
   "metadata": {},
   "source": [
    "Installez la librairie streamlit\n",
    "Créez un dashboard qui donne la posibilité de séléctionner une année pour retourner un barplot du nombre de crime commis avec chaque arme."
   ]
  },
  {
   "cell_type": "code",
   "execution_count": null,
   "metadata": {},
   "outputs": [],
   "source": [
    "victimWithEachWeapon = table.aggregate([\n",
    "    {\"$match\": {\"Year\": 1980}},\n",
    "    { \"$group\" : {\n",
    "        \"_id\": \"$Weapon\", \"victimes\": {\"$sum\": \"$Victim Count\"}\n",
    "    }}\n",
    "])\n",
    "    \n",
    "list(victimWithEachWeapon)"
   ]
  },
  {
   "cell_type": "code",
   "execution_count": null,
   "metadata": {},
   "outputs": [],
   "source": [
    "# QCM 2\n",
    "victimWithEachAge = table.aggregate([\n",
    "    { \"$group\" : {\n",
    "        \"_id\": \"$Victim Age\", \"victimes\": {\"$sum\": 1}\n",
    "    }},\n",
    "    { \"$sort\" : {\n",
    "        \"victimes\": -1\n",
    "    }}\n",
    "])\n",
    "    \n",
    "list(victimWithEachAge)\n",
    "\n"
   ]
  },
  {
   "cell_type": "code",
   "execution_count": null,
   "metadata": {},
   "outputs": [],
   "source": [
    "# QCM 3\n",
    "victimWithEachAgeByVictim = table.aggregate([\n",
    "    {\"$match\": { \"Weapon\": \"Drowning\"}},\n",
    "    { \"$group\" : {\n",
    "        \"_id\": \"$Victim Age\", \"victimes\": {\"$sum\": 1}\n",
    "    }},\n",
    "    { \"$sort\" : {\n",
    "        \"victimes\": -1\n",
    "    }}\n",
    "])\n",
    "    \n",
    "list(victimWithEachAgeByVictim)"
   ]
  },
  {
   "cell_type": "code",
   "execution_count": null,
   "metadata": {
    "scrolled": true
   },
   "outputs": [],
   "source": [
    "# QCM 4\n",
    "victimWithEachAgeByVictim = table.aggregate([\n",
    "    {\"$match\": { \"Weapon\": \"Fall\"}},\n",
    "    { \"$group\" : {\n",
    "        \"_id\": \"$State\", \"victimes\": {\"$sum\": 1}\n",
    "    }},\n",
    "    { \"$sort\" : {\n",
    "        \"victimes\": -1\n",
    "    }}\n",
    "])\n",
    "    \n",
    "list(victimWithEachAgeByVictim)"
   ]
  },
  {
   "cell_type": "code",
   "execution_count": null,
   "metadata": {
    "scrolled": true
   },
   "outputs": [],
   "source": [
    "# QCM 5\n",
    "victimWithEachAgeByVictim = table.aggregate([\n",
    "    { \"$group\" : {\n",
    "        \"_id\": \"$State\", \"Moyenne\": {\"$avg\": \"$Victim Count\"}\n",
    "    }},\n",
    "    { \"$sort\" : {\n",
    "        \"Moyenne\": -1\n",
    "    }}\n",
    "])\n",
    "    \n",
    "list(victimWithEachAgeByVictim)"
   ]
  }
 ],
 "metadata": {
  "kernelspec": {
   "display_name": "Python 3",
   "language": "python",
   "name": "python3"
  },
  "language_info": {
   "codemirror_mode": {
    "name": "ipython",
    "version": 3
   },
   "file_extension": ".py",
   "mimetype": "text/x-python",
   "name": "python",
   "nbconvert_exporter": "python",
   "pygments_lexer": "ipython3",
   "version": "3.8.6"
  },
  "varInspector": {
   "cols": {
    "lenName": 16,
    "lenType": 16,
    "lenVar": 40
   },
   "kernels_config": {
    "python": {
     "delete_cmd_postfix": "",
     "delete_cmd_prefix": "del ",
     "library": "var_list.py",
     "varRefreshCmd": "print(var_dic_list())"
    },
    "r": {
     "delete_cmd_postfix": ") ",
     "delete_cmd_prefix": "rm(",
     "library": "var_list.r",
     "varRefreshCmd": "cat(var_dic_list()) "
    }
   },
   "types_to_exclude": [
    "module",
    "function",
    "builtin_function_or_method",
    "instance",
    "_Feature"
   ],
   "window_display": false
  }
 },
 "nbformat": 4,
 "nbformat_minor": 2
}
